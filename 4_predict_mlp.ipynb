{
 "cells": [
  {
   "cell_type": "code",
   "execution_count": 4,
   "metadata": {},
   "outputs": [],
   "source": [
    "import torch\n",
    "import numpy as np\n",
    "from src.MLP import MultiLayerPerceptron as MLP\n",
    "import pandas as pd\n",
    "from torch.utils.data import DataLoader\n",
    "from matplotlib import pyplot as plt"
   ]
  },
  {
   "cell_type": "code",
   "execution_count": 5,
   "metadata": {},
   "outputs": [],
   "source": [
    "#data = pd.read_csv('processed_data/no_update.csv')\n",
    "#data = pd.read_csv('processed_data/2000_update.csv')\n",
    "#data = pd.read_csv('processed_data/5000update_100threshold.csv')\n",
    "#data = pd.read_csv('processed_data/15000update.csv')\n",
    "#data = pd.read_csv('processed_data/25000update.csv')"
   ]
  },
  {
   "cell_type": "code",
   "execution_count": 6,
   "metadata": {},
   "outputs": [
    {
     "name": "stdout",
     "output_type": "stream",
     "text": [
      "tensor(18.4277, grad_fn=<AddBackward0>)\n",
      "tensor(16.0561, grad_fn=<AddBackward0>)\n",
      "tensor(15.7945, grad_fn=<AddBackward0>)\n",
      "tensor(15.6006, grad_fn=<AddBackward0>)\n",
      "tensor(15.4061, grad_fn=<AddBackward0>)\n",
      "tensor(15.2710, grad_fn=<AddBackward0>)\n",
      "tensor(15.1447, grad_fn=<AddBackward0>)\n",
      "tensor(14.9024, grad_fn=<AddBackward0>)\n",
      "tensor(14.8092, grad_fn=<AddBackward0>)\n",
      "tensor(14.6538, grad_fn=<AddBackward0>)\n",
      "0.6806844547563805 0.646189024390244 0.8119134265466386 0.7196333078686019\n"
     ]
    },
    {
     "data": {
      "image/png": "[encoded data removed]",
      "text/plain": [
       "<Figure size 432x288 with 1 Axes>"
      ]
     },
     "metadata": {
      "needs_background": "light"
     },
     "output_type": "display_data"
    }
   ],
   "source": [
    "path = 'processed_data/' + '1' +'th5000_update.csv'\n",
    "data=pd.read_csv(path)\n",
    "\n",
    "one_hot = pd.read_csv('processed_data/one_hot.csv')\n",
    "data['one_hot']= one_hot['New_occur']\n",
    "\n",
    "\n",
    "\n",
    "train_size = int(0.7*len(data))\n",
    "dataX = data[['Degree_difference','Max_degree', 'Avg_degree', 'MIN_distance', 'Avg_cluster_coef',\n",
    "             'Avg_jaccard', 'Hyper_jaccard', 'Adamic_adar','one_hot']]\n",
    "dataY = data[['Answer']]\n",
    "\n",
    "trainX= torch.Tensor(dataX[:train_size].values)\n",
    "testX = torch.Tensor(dataX[train_size:].values)\n",
    "trainY= torch.Tensor(dataY[:train_size].values)\n",
    "testY = torch.Tensor(dataY[train_size:].values)\n",
    "train_data = torch.utils.data.TensorDataset(trainX, trainY)\n",
    "test_data = torch.utils.data.TensorDataset(testX, testY)\n",
    "trainloader = DataLoader(train_data ,batch_size=1000, shuffle=True)\n",
    "testloader = DataLoader(test_data ,batch_size=1000, shuffle=False)\n",
    "\n",
    "model = MLP(input_dimension = 9,\n",
    "           output_dimension = 1,\n",
    "           num_neurons = [64, 64],\n",
    "           activation='mish',\n",
    "           out_activation='Sigmoid',\n",
    "           dropout_probability=0.1)\n",
    "epochs = 100\n",
    "lr = 1e-3\n",
    "\n",
    "opt = torch.optim.Adam(model.parameters(), lr)\n",
    "criterion = torch.nn.BCELoss()\n",
    "\n",
    "loss_record = []\n",
    "for epoch in range(1,epochs+1):\n",
    "    total_loss = 0 \n",
    "\n",
    "    for x, y in trainloader:\n",
    "        output = model(x)\n",
    "        loss = criterion(output, y)\n",
    "        opt.zero_grad()\n",
    "        loss.backward()\n",
    "        opt.step()\n",
    "        total_loss += loss\n",
    "\n",
    "    loss_record.append(total_loss)\n",
    "    if epoch % 10 == 0:\n",
    "        print(total_loss)\n",
    "\n",
    "plt.plot(loss_record)\n",
    "\n",
    "tp = 0\n",
    "fp = 0\n",
    "tn = 0\n",
    "fn = 0\n",
    "\n",
    "PRED = []\n",
    "for x, y in testloader:\n",
    "    pred = model(x)\n",
    "    pred = torch.round(pred)\n",
    "\n",
    "    tp += torch.sum((pred==1) & (y==1))\n",
    "    fn += torch.sum((pred==0) & (y==1))\n",
    "    fp += torch.sum((pred==1) & (y==0))\n",
    "    tn += torch.sum((pred==0) & (y==0))\n",
    "\n",
    "    PRED = PRED + [answer.item() for answer in pred.flatten()]\n",
    "\n",
    "\n",
    "\n",
    "acc = np.array(tp+tn)/np.array((tp+tn+fp+fn))\n",
    "precison = np.array(tp)/np.array((tp+fp))\n",
    "recall = np.array(tp)/np.array((tp+fn))\n",
    "f1_score = 2*precison*recall/(precison+recall)\n",
    "\n",
    "\n",
    "# with open('result/'+str(i) + \"file.txt\", \"w\") as f:\n",
    "#     for s in PRED:\n",
    "#         if s==1:\n",
    "#             s='True'\n",
    "#         else:\n",
    "#             s='False'\n",
    "#         f.write(str(s) +\"\\n\")\n"
   ]
  },
  {
   "cell_type": "code",
   "execution_count": 7,
   "metadata": {},
   "outputs": [
    {
     "name": "stdout",
     "output_type": "stream",
     "text": [
      "0.6806844547563805 0.646189024390244 0.8119134265466386 0.7196333078686019\n"
     ]
    }
   ],
   "source": [
    "print(acc,precison, recall, f1_score)\n"
   ]
  }
 ],
 "metadata": {
  "kernelspec": {
   "display_name": "Python 3",
   "language": "python",
   "name": "python3"
  }
 },
 "nbformat": 4,
 "nbformat_minor": 4
}
