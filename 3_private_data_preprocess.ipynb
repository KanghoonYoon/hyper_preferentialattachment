{
 "cells": [
  {
   "cell_type": "code",
   "execution_count": 1,
   "metadata": {},
   "outputs": [],
   "source": [
    "import os\n",
    "import pandas as pd\n",
    "from src.utils import *\n",
    "from src.data_utils import *\n",
    "from matplotlib import pyplot as plt"
   ]
  },
  {
   "cell_type": "code",
   "execution_count": 2,
   "metadata": {},
   "outputs": [],
   "source": [
    "path = os.getcwd() + '/save_graph/' + '1' + 'th5000iter10threshold.txt'"
   ]
  },
  {
   "cell_type": "code",
   "execution_count": 3,
   "metadata": {},
   "outputs": [],
   "source": [
    "data = Updategraph(path)\n",
    "query = Private()"
   ]
  },
  {
   "cell_type": "code",
   "execution_count": 4,
   "metadata": {},
   "outputs": [],
   "source": [
    "New_occur = []\n",
    "\n",
    "for i in range(len(query.query)):\n",
    "\n",
    "    try:\n",
    "        for node in query.query[i]:\n",
    "            d = data.degrees[node]\n",
    "        New_occur.append(0)\n",
    "\n",
    "    except:\n",
    "        New_occur.append(1)\n",
    "            \n",
    "one_hot = dict()\n",
    "one_hot['New_occur'] = New_occur\n",
    "one_hot = pd.DataFrame(one_hot)\n"
   ]
  },
  {
   "cell_type": "code",
   "execution_count": null,
   "metadata": {},
   "outputs": [
    {
     "name": "stdout",
     "output_type": "stream",
     "text": [
      "0 th\n",
      "500 th\n"
     ]
    }
   ],
   "source": [
    "Degree_difference = []\n",
    "Max_degree = []\n",
    "Avg_degree = []\n",
    "MIN_distance=[]\n",
    "Avg_cluster_coef = []\n",
    "Avg_jaccard = []\n",
    "Hyper_jaccard = []\n",
    "Adamic_adar = []\n",
    "\n",
    "\n",
    "# Max_closeness = []\n",
    "# Avg_closeness = []\n",
    "\n",
    "# node_close = node_closeness(data)  # dict : node -> value\n",
    "cluster_coefficient = cluster_coef(data)  # dict : node -> value\n",
    "\n",
    "\n",
    "for i in range(len(query.query)):\n",
    "\n",
    "    degs = []\n",
    "    # clsness = []\n",
    "    cls_coef = []\n",
    "    for node in query.query[i]:\n",
    "        try:\n",
    "            # clsness.append(node_close[node])\n",
    "            cls_coef.append(cluster_coefficient[node])\n",
    "        except:\n",
    "            # clsness.append(0)\n",
    "            cls_coef.append(0)\n",
    "\n",
    "        try:\n",
    "            degs.append(data.degrees[node])\n",
    "        except:\n",
    "            degs.append(0)\n",
    "\n",
    "\n",
    "    # Max_closeness.append(max(clsness))\n",
    "    # Avg_closeness.append(np.average(clsness))\n",
    "    Avg_cluster_coef.append(np.average(cls_coef))\n",
    "    Max_degree.append(max(degs))\n",
    "    Degree_difference.append(max(degs) - min(degs))\n",
    "    Avg_degree.append(np.average(degs))\n",
    "\n",
    "    min_dist = get_distance(Data_class=data, hyperedge=query.query[i])\n",
    "    MIN_distance.append(min_dist)\n",
    "\n",
    "    Hyper_jaccard.append(jaccard_hyper(Data_class=data, hyperedge=query.query[i]))\n",
    "    Avg_jaccard.append(averaged_jaccard_similarity(Data_class=data, edge=query.query[i]))\n",
    "\n",
    "    try:\n",
    "        Adamic_adar.append(adamic_adar(data, query.query[i]))\n",
    "    except:\n",
    "        Adamic_adar.append(0)\n",
    "\n",
    "    if i%500 ==0:\n",
    "        print(i,\"th\")\n",
    "\n",
    "\n",
    "dataframe = dict()\n",
    "\n",
    "dataframe['Degree_difference'] = Degree_difference\n",
    "dataframe['Max_degree'] = Max_degree\n",
    "dataframe['Avg_degree'] = Avg_degree\n",
    "dataframe['MIN_distance'] = MIN_distance\n",
    "# dataframe['Max_closeness'] = Max_closeness\n",
    "# dataframe['Avg_closeness'] = Avg_closeness\n",
    "dataframe['Avg_cluster_coef'] = Avg_cluster_coef\n",
    "dataframe['Avg_jaccard'] = Avg_jaccard\n",
    "dataframe['Hyper_jaccard'] = Hyper_jaccard\n",
    "dataframe['Adamic_adar'] = Adamic_adar\n",
    "\n",
    "\n",
    "dataframe = pd.DataFrame(dataframe)\n",
    "\n",
    "# path = 'processed_data/'\n",
    "# dataframe.to_csv(path+'private.csv', index=False)\n",
    "# one_hot.to_csv('processed_data/'+'private_one_hot.csv', index=False)"
   ]
  }
 ],
 "metadata": {
  "kernelspec": {
   "display_name": "Python 3",
   "language": "python",
   "name": "python3"
  },
  "language_info": {
   "codemirror_mode": {
    "name": "ipython",
    "version": 3
   },
   "file_extension": ".py",
   "mimetype": "text/x-python",
   "name": "python",
   "nbconvert_exporter": "python",
   "pygments_lexer": "ipython3",
   "version": "3.7.4"
  }
 },
 "nbformat": 4,
 "nbformat_minor": 4
}
